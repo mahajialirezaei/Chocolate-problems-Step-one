{
 "cells": [
  {
   "attachments": {},
   "cell_type": "markdown",
   "metadata": {},
   "source": [
    "<h1 align=center style=\"line-height:200%;font-family:vazir;color:#0099cc\">\n",
    "<font face=\"vazirmatn\" color=\"#0099cc\">\n",
    "محموله‌ی بزرگ\n",
    "</font>\n",
    "</h1>\n",
    "\n",
    "<p dir=rtl style=\"direction: rtl;text-align: justify;line-height:200%;font-family:vazir;font-size:medium\">\n",
    "<font face=\"vazirmatn\" size=3>\n",
    "  در اولین گام از پروژه فرض کنیم یک محموله‌ی بزرگ از شکلات‌های خارجی برای‌مان آمده و خوشبختانه فروشنده نیز لیستی از مشخصات کامل هر شکلات را در اختیارمان قرار داده است. حال می‌خواهیم به بررسی بیشتر این مشخصات پرداخته و مقداری ساختار ذخیره‌سازی این اطلاعات را بهبود دهیم.\n",
    "</font>\n",
    "</p>"
   ]
  },
  {
   "attachments": {},
   "cell_type": "markdown",
   "metadata": {},
   "source": [
    "<h2 align=right style=\"line-height:200%;font-family:vazir;color:#0099cc\">\n",
    "<font face=\"vazirmatn\" color=\"#0099cc\">\n",
    "مجموعه‌داده\n",
    "</font>\n",
    "</h2>\n",
    "<p dir=rtl style=\"direction: rtl;text-align: justify;line-height:200%;font-family:vazir;font-size:medium\">\n",
    "<font face=\"vazirmatn\" size=3>\n",
    "    اطلاعات شکلات‌ها در فایلی به نام <code>chocolate.csv</code> در اختیار شما قرار گرفته است. پیش از هر چیز به کمک سلول زیر این اطلاعات را به شکل یک دیتافریم بخوانیم.\n",
    "</font>\n",
    "</p>\n"
   ]
  },
  {
   "cell_type": "code",
   "metadata": {
    "colab": {
     "base_uri": "https://localhost:8080/",
     "height": 223
    },
    "executionInfo": {
     "elapsed": 371,
     "status": "ok",
     "timestamp": 1627552541479,
     "user": {
      "displayName": "Parto Shahroodi",
      "photoUrl": "https://lh3.googleusercontent.com/a-/AOh14GgVRnuIKtxzeAYtLGbbb7NnFc-HXqxuTOJ6OMw7uw=s64",
      "userId": "08853559073941204272"
     },
     "user_tz": -270
    },
    "id": "JUEwzKpr2RUk",
    "outputId": "684b5cff-21a6-46d3-8084-e090addb1731",
    "ExecuteTime": {
     "end_time": "2025-02-10T16:49:05.554502Z",
     "start_time": "2025-02-10T16:49:05.532772Z"
    }
   },
   "source": [
    "import numpy as np\n",
    "import pandas as pd\n",
    "\n",
    "df = pd.read_csv('chocolate.csv')\n",
    "df.head()"
   ],
   "outputs": [
    {
     "data": {
      "text/plain": [
       "    Company Specific Bean\\r\\nOrigin  Review\\r\\nDate Cocoa\\r\\nPercent  \\\n",
       "0  A. Morin             Agua Grande            2016              63%   \n",
       "1  A. Morin                   Kpime            2015              70%   \n",
       "2  A. Morin                  Atsane            2015              70%   \n",
       "3  A. Morin                   Akata            2015              70%   \n",
       "4  A. Morin                  Quilla            2015              70%   \n",
       "\n",
       "  Company\\r\\nLocation  Rating Bean\\r\\nType Broad Bean\\r\\nOrigin  \n",
       "0              France    3.75        Blend             Sao Tome  \n",
       "1              France    2.75        Blend                 Togo  \n",
       "2              France    3.00        Blend                 Togo  \n",
       "3              France    3.50        Blend                 Togo  \n",
       "4              France    3.50        Blend                 Peru  "
      ],
      "text/html": [
       "<div>\n",
       "<style scoped>\n",
       "    .dataframe tbody tr th:only-of-type {\n",
       "        vertical-align: middle;\n",
       "    }\n",
       "\n",
       "    .dataframe tbody tr th {\n",
       "        vertical-align: top;\n",
       "    }\n",
       "\n",
       "    .dataframe thead th {\n",
       "        text-align: right;\n",
       "    }\n",
       "</style>\n",
       "<table border=\"1\" class=\"dataframe\">\n",
       "  <thead>\n",
       "    <tr style=\"text-align: right;\">\n",
       "      <th></th>\n",
       "      <th>Company</th>\n",
       "      <th>Specific Bean\\r\\nOrigin</th>\n",
       "      <th>Review\\r\\nDate</th>\n",
       "      <th>Cocoa\\r\\nPercent</th>\n",
       "      <th>Company\\r\\nLocation</th>\n",
       "      <th>Rating</th>\n",
       "      <th>Bean\\r\\nType</th>\n",
       "      <th>Broad Bean\\r\\nOrigin</th>\n",
       "    </tr>\n",
       "  </thead>\n",
       "  <tbody>\n",
       "    <tr>\n",
       "      <th>0</th>\n",
       "      <td>A. Morin</td>\n",
       "      <td>Agua Grande</td>\n",
       "      <td>2016</td>\n",
       "      <td>63%</td>\n",
       "      <td>France</td>\n",
       "      <td>3.75</td>\n",
       "      <td>Blend</td>\n",
       "      <td>Sao Tome</td>\n",
       "    </tr>\n",
       "    <tr>\n",
       "      <th>1</th>\n",
       "      <td>A. Morin</td>\n",
       "      <td>Kpime</td>\n",
       "      <td>2015</td>\n",
       "      <td>70%</td>\n",
       "      <td>France</td>\n",
       "      <td>2.75</td>\n",
       "      <td>Blend</td>\n",
       "      <td>Togo</td>\n",
       "    </tr>\n",
       "    <tr>\n",
       "      <th>2</th>\n",
       "      <td>A. Morin</td>\n",
       "      <td>Atsane</td>\n",
       "      <td>2015</td>\n",
       "      <td>70%</td>\n",
       "      <td>France</td>\n",
       "      <td>3.00</td>\n",
       "      <td>Blend</td>\n",
       "      <td>Togo</td>\n",
       "    </tr>\n",
       "    <tr>\n",
       "      <th>3</th>\n",
       "      <td>A. Morin</td>\n",
       "      <td>Akata</td>\n",
       "      <td>2015</td>\n",
       "      <td>70%</td>\n",
       "      <td>France</td>\n",
       "      <td>3.50</td>\n",
       "      <td>Blend</td>\n",
       "      <td>Togo</td>\n",
       "    </tr>\n",
       "    <tr>\n",
       "      <th>4</th>\n",
       "      <td>A. Morin</td>\n",
       "      <td>Quilla</td>\n",
       "      <td>2015</td>\n",
       "      <td>70%</td>\n",
       "      <td>France</td>\n",
       "      <td>3.50</td>\n",
       "      <td>Blend</td>\n",
       "      <td>Peru</td>\n",
       "    </tr>\n",
       "  </tbody>\n",
       "</table>\n",
       "</div>"
      ]
     },
     "execution_count": 141,
     "metadata": {},
     "output_type": "execute_result"
    }
   ],
   "execution_count": 141
  },
  {
   "attachments": {},
   "cell_type": "markdown",
   "metadata": {},
   "source": [
    "<h2 align=right style=\"line-height:200%;font-family:vazir;color:#0099cc\">\n",
    "<font face=\"vazirmatn\" color=\"#0099cc\">\n",
    "قسمت اول\n",
    "</font>\n",
    "</h2>\n",
    "<p dir=rtl style=\"direction: rtl;text-align: justify;line-height:200%;font-family:vazir;font-size:medium\">\n",
    "<font face=\"vazirmatn\" size=3>\n",
    "  برای این که به حجم زیاد شکلات‌ها و مشخصات دقیق‌تر آن‌ها پی ببریم ابعاد (shape) و نام ستون‌های این مجموعه‌داده (columns) را در متغیر‌های زیر ریخته و چاپ کنید:\n",
    "</font>\n",
    "</p>\n"
   ]
  },
  {
   "cell_type": "code",
   "metadata": {
    "colab": {
     "base_uri": "https://localhost:8080/"
    },
    "executionInfo": {
     "elapsed": 442,
     "status": "ok",
     "timestamp": 1627552552538,
     "user": {
      "displayName": "Parto Shahroodi",
      "photoUrl": "https://lh3.googleusercontent.com/a-/AOh14GgVRnuIKtxzeAYtLGbbb7NnFc-HXqxuTOJ6OMw7uw=s64",
      "userId": "08853559073941204272"
     },
     "user_tz": -270
    },
    "id": "IPLy4mOvN4LB",
    "outputId": "6f1dcea8-4503-4063-a268-1a5891412bf1",
    "ExecuteTime": {
     "end_time": "2025-02-10T16:49:05.587972Z",
     "start_time": "2025-02-10T16:49:05.581586Z"
    }
   },
   "source": [
    "s = df.shape\n",
    "cols = df.columns.str.strip().str.replace('\\r', '')\n",
    "print(s)\n",
    "print(cols)"
   ],
   "outputs": [
    {
     "name": "stdout",
     "output_type": "stream",
     "text": [
      "(1795, 8)\n",
      "Index(['Company', 'Specific Bean\\nOrigin', 'Review\\nDate', 'Cocoa\\nPercent',\n",
      "       'Company\\nLocation', 'Rating', 'Bean\\nType', 'Broad Bean\\nOrigin'],\n",
      "      dtype='object')\n"
     ]
    }
   ],
   "execution_count": 142
  },
  {
   "cell_type": "markdown",
   "metadata": {},
   "source": [
    "<h2 align=right style=\"line-height:200%;font-family:vazir;color:#0099cc\">\n",
    "<font face=\"vazirmatn\" color=\"#0099cc\">\n",
    "قسمت دوم\n",
    "</font>\n",
    "</h2>\n"
   ]
  },
  {
   "attachments": {},
   "cell_type": "markdown",
   "metadata": {
    "id": "phQ8lLXVhTuc"
   },
   "source": [
    "<p dir=rtl style=\"direction: rtl;text-align: justify;line-height:200%;font-family:vazir;font-size:medium\">\n",
    "<font face=\"vazirmatn\" size=3>\n",
    "همان‌طور که دیدید، نام برخی از ستون‌ها دارای کاراکتر <code>n\\</code> است که برای ایجاد خط جدید استفاده می‌شود اما در اینجا به آن‌صورت نمایش داده نمی‌شود. پس برای مرتب شدن مجموعه‌داده، نام ستون‌ها را به نوعی تغییر دهید که به جای کاراکتر <code>n\\</code>، تنها از فاصله (space) استفاده شود.\n",
    "</font>\n",
    "</p>\n"
   ]
  },
  {
   "cell_type": "code",
   "metadata": {
    "executionInfo": {
     "elapsed": 405,
     "status": "ok",
     "timestamp": 1627552932160,
     "user": {
      "displayName": "Parto Shahroodi",
      "photoUrl": "https://lh3.googleusercontent.com/a-/AOh14GgVRnuIKtxzeAYtLGbbb7NnFc-HXqxuTOJ6OMw7uw=s64",
      "userId": "08853559073941204272"
     },
     "user_tz": -270
    },
    "id": "J6w12_CDsUaK",
    "ExecuteTime": {
     "end_time": "2025-02-10T16:49:05.598654Z",
     "start_time": "2025-02-10T16:49:05.590562Z"
    }
   },
   "source": [
    "df.columns = df.columns.str.replace('\\r\\n', ' ')\n",
    "df.columns"
   ],
   "outputs": [
    {
     "data": {
      "text/plain": [
       "Index(['Company', 'Specific Bean Origin', 'Review Date', 'Cocoa Percent',\n",
       "       'Company Location', 'Rating', 'Bean Type', 'Broad Bean Origin'],\n",
       "      dtype='object')"
      ]
     },
     "execution_count": 143,
     "metadata": {},
     "output_type": "execute_result"
    }
   ],
   "execution_count": 143
  },
  {
   "attachments": {},
   "cell_type": "markdown",
   "metadata": {
    "id": "AhempoDxhYUd"
   },
   "source": [
    "<p dir=rtl style=\"direction: rtl;text-align: justify;line-height:200%;font-family:vazir;font-size:medium\">\n",
    "<font face=\"vazirmatn\" size=3>\n",
    "با استفاده از دستور <code dir=ltr>info()</code> می‌توانیم اطلاعات کلی دیتافریم و نوع (type) ستون‌های آن را مشاهده کنیم.\n",
    "پیشنهاد می‌کنیم پیش از ادامه، به کمک این دستور نگاهی به دیتافریم بی‌اندازید و کمی آن را تحلیل کنید.\n",
    "</font>\n",
    "</p>\n"
   ]
  },
  {
   "cell_type": "code",
   "metadata": {
    "colab": {
     "base_uri": "https://localhost:8080/"
    },
    "executionInfo": {
     "elapsed": 452,
     "status": "ok",
     "timestamp": 1626769058517,
     "user": {
      "displayName": "Parto Shahroodi",
      "photoUrl": "https://lh3.googleusercontent.com/a-/AOh14GgVRnuIKtxzeAYtLGbbb7NnFc-HXqxuTOJ6OMw7uw=s64",
      "userId": "08853559073941204272"
     },
     "user_tz": -270
    },
    "id": "cGLlHp8C4mkT",
    "outputId": "71575d1a-8c77-4437-c8b2-86b149100891",
    "ExecuteTime": {
     "end_time": "2025-02-10T16:49:05.615597Z",
     "start_time": "2025-02-10T16:49:05.602441Z"
    }
   },
   "source": [
    "df.info()"
   ],
   "outputs": [
    {
     "name": "stdout",
     "output_type": "stream",
     "text": [
      "<class 'pandas.core.frame.DataFrame'>\n",
      "RangeIndex: 1795 entries, 0 to 1794\n",
      "Data columns (total 8 columns):\n",
      " #   Column                Non-Null Count  Dtype  \n",
      "---  ------                --------------  -----  \n",
      " 0   Company               1795 non-null   object \n",
      " 1   Specific Bean Origin  1795 non-null   object \n",
      " 2   Review Date           1795 non-null   int64  \n",
      " 3   Cocoa Percent         1795 non-null   object \n",
      " 4   Company Location      1795 non-null   object \n",
      " 5   Rating                1795 non-null   float64\n",
      " 6   Bean Type             1795 non-null   object \n",
      " 7   Broad Bean Origin     1794 non-null   object \n",
      "dtypes: float64(1), int64(1), object(6)\n",
      "memory usage: 112.3+ KB\n"
     ]
    }
   ],
   "execution_count": 144
  },
  {
   "attachments": {},
   "cell_type": "markdown",
   "metadata": {},
   "source": [
    "<h2 align=right style=\"line-height:200%;font-family:vazir;color:#0099cc\">\n",
    "<font face=\"vazirmatn\" color=\"#0099cc\">\n",
    "قسمت سوم\n",
    "</font>\n",
    "</h2>\n",
    "<p dir=rtl style=\"direction: rtl;text-align: justify;line-height:200%;font-family:vazir;font-size:medium\">\n",
    "<font face=\"vazirmatn\" size=3>\n",
    "همان‌طور که احتمالاً متوجه شده‌اید، تمام ستون‌هایی که دارای مقادیری از نوع رشته (<code>string</code>) هستند (مثل ستون <code>Company</code>)، به صورت <code>object</code> ذخیره شده‌اند که به دلیل نداشتن مقادیر خالی (که در فصل آینده با آن آشنا می‌شوید)، لزومی ندارد این ستون‌ها به صورت <code>object</code> باقی بمانند. برای راحتی محاسبات این ستون‌ها را به نوع رشته تغییر دهید و با دستور <code>info</code> از صحت انجام این کار مطمئن شوید.\n",
    "\n",
    "</font>\n",
    "</p>\n"
   ]
  },
  {
   "cell_type": "code",
   "metadata": {
    "colab": {
     "base_uri": "https://localhost:8080/"
    },
    "executionInfo": {
     "elapsed": 456,
     "status": "ok",
     "timestamp": 1626769062163,
     "user": {
      "displayName": "Parto Shahroodi",
      "photoUrl": "https://lh3.googleusercontent.com/a-/AOh14GgVRnuIKtxzeAYtLGbbb7NnFc-HXqxuTOJ6OMw7uw=s64",
      "userId": "08853559073941204272"
     },
     "user_tz": -270
    },
    "id": "OozOj4u-5KEd",
    "outputId": "a314621d-0e65-4bd2-ce71-ae99d26b0f92",
    "ExecuteTime": {
     "end_time": "2025-02-10T16:49:05.673549Z",
     "start_time": "2025-02-10T16:49:05.661349Z"
    }
   },
   "source": [
    "df = df.apply(lambda x : x.astype('string') if x.dtype == object else x)\n",
    "df.info()"
   ],
   "outputs": [
    {
     "name": "stdout",
     "output_type": "stream",
     "text": [
      "<class 'pandas.core.frame.DataFrame'>\n",
      "RangeIndex: 1795 entries, 0 to 1794\n",
      "Data columns (total 8 columns):\n",
      " #   Column                Non-Null Count  Dtype  \n",
      "---  ------                --------------  -----  \n",
      " 0   Company               1795 non-null   string \n",
      " 1   Specific Bean Origin  1795 non-null   string \n",
      " 2   Review Date           1795 non-null   int64  \n",
      " 3   Cocoa Percent         1795 non-null   string \n",
      " 4   Company Location      1795 non-null   string \n",
      " 5   Rating                1795 non-null   float64\n",
      " 6   Bean Type             1795 non-null   string \n",
      " 7   Broad Bean Origin     1794 non-null   string \n",
      "dtypes: float64(1), int64(1), string(6)\n",
      "memory usage: 112.3 KB\n"
     ]
    }
   ],
   "execution_count": 145
  },
  {
   "attachments": {},
   "cell_type": "markdown",
   "metadata": {},
   "source": [
    "<h2 align=right style=\"line-height:200%;font-family:vazir;color:#0099cc\">\n",
    "<font face=\"vazirmatn\" color=\"#0099cc\">\n",
    "قسمت چهارم\n",
    "</font>\n",
    "</h2>\n",
    "<p dir=rtl style=\"direction: rtl;text-align: justify;line-height:200%;font-family:vazir;font-size:medium\">\n",
    "<font face=\"vazirmatn\" size=3>\n",
    "مشکل بعدی، ستون درصد کاکائوی خالص یعنی <code>Cocoa Percent</code> است. همان‌طور که می‌بینید این ستون در حال حاضر به‌صورت رشته ذخیره شده است، اما مقادیر آن در واقع معنای عددی دارند. پس برای نرمال‌سازی بهتر این ستون، راه‌حلی بیابید تا علامت درصد (<code>%</code>) را از مقادیر حذف کرده و سپس نوع آن ستون را به <code>float</code> تبدیل کنید.\n",
    "\n",
    "</font>\n",
    "</p>\n"
   ]
  },
  {
   "cell_type": "code",
   "metadata": {
    "colab": {
     "base_uri": "https://localhost:8080/",
     "height": 223
    },
    "executionInfo": {
     "elapsed": 449,
     "status": "ok",
     "timestamp": 1626769123179,
     "user": {
      "displayName": "Parto Shahroodi",
      "photoUrl": "https://lh3.googleusercontent.com/a-/AOh14GgVRnuIKtxzeAYtLGbbb7NnFc-HXqxuTOJ6OMw7uw=s64",
      "userId": "08853559073941204272"
     },
     "user_tz": -270
    },
    "id": "HXZtM_L--I9o",
    "outputId": "4246a6bd-a533-460b-e5b4-ad85ae5fbc2e",
    "ExecuteTime": {
     "end_time": "2025-02-10T16:49:05.720379Z",
     "start_time": "2025-02-10T16:49:05.712342Z"
    }
   },
   "source": [
    "df['Cocoa Percent'] = df['Cocoa Percent'].astype(str).str.replace('%', '').astype(float)"
   ],
   "outputs": [],
   "execution_count": 146
  },
  {
   "attachments": {},
   "cell_type": "markdown",
   "metadata": {},
   "source": [
    "<h2 align=right style=\"line-height:200%;font-family:vazir;color:#0099cc\">\n",
    "<font face=\"vazirmatn\" color=\"#0099cc\">\n",
    "بررسی فراوانی درصد کاکائو\n",
    "</font>\n",
    "</h2>\n",
    "<p dir=rtl style=\"direction: rtl;text-align: justify;line-height:200%;font-family:vazir;font-size:medium\">\n",
    "<font face=\"vazirmatn\" size=3>\n",
    "در بسیاری از شرایط، مصورسازی داده می‌تواند به‌سرعت حقایق مهمی را نشان‌مان دهد. به‌عنوان مثال، در اینجا می‌توانیم برای بررسی درصد کاکائو در شکلات‌های مختلف، از نمودار هیستوگرام استفاده کنیم.\n",
    "<br>\n",
    "هول نشوید! 😉 به‌زودی در فصل «مصورسازی داده» با انواع نمودارها و نحوه‌ی رسم آن‌ها آشنا می‌شوید.\n",
    "\n",
    "\n",
    "</font>\n",
    "</p>\n"
   ]
  },
  {
   "cell_type": "code",
   "metadata": {
    "ExecuteTime": {
     "end_time": "2025-02-10T16:49:06.124092Z",
     "start_time": "2025-02-10T16:49:05.810417Z"
    }
   },
   "source": [
    "import seaborn as sns\n",
    "sns.displot(df, x = 'Cocoa Percent', bins = 30)"
   ],
   "outputs": [
    {
     "data": {
      "text/plain": [
       "<seaborn.axisgrid.FacetGrid at 0x1d7a89a43b0>"
      ]
     },
     "execution_count": 147,
     "metadata": {},
     "output_type": "execute_result"
    },
    {
     "data": {
      "text/plain": [
       "<Figure size 500x500 with 1 Axes>"
      ],
      "image/png": "[encoded data removed]"
     },
     "metadata": {},
     "output_type": "display_data"
    }
   ],
   "execution_count": 147
  },
  {
   "cell_type": "markdown",
   "metadata": {},
   "source": [
    "<p dir=rtl style=\"direction: rtl;text-align: right;line-height:200%;font-family:vazir;font-size:medium\">\n",
    "<font face=\"vazirmatn\" size=3>\n",
    "با بررسی نمودار بالا مشخص می‌شود که درصد زیادی از شکلات‌ها، دارای ۷۰ درصد کاکائو هستند.\n",
    "</font>\n",
    "</p>"
   ]
  },
  {
   "attachments": {},
   "cell_type": "markdown",
   "metadata": {},
   "source": [
    "<h2 align=right style=\"line-height:200%;font-family:vazir;color:#0099cc\">\n",
    "<font face=\"vazirmatn\" color=\"#0099cc\">\n",
    "ذخیره‌سازی داده‌ها\n",
    "</font>\n",
    "</h2>\n",
    "<p dir=rtl style=\"direction: rtl;text-align: justify;line-height:200%;font-family:vazir;font-size:medium\">\n",
    "<font face=\"vazirmatn\" size=3>\n",
    "تبریک! 🎉 حالا تمامی مشخصات، مرتب و آماده‌ی تحلیل است.\n",
    "اکنون نیاز است مجموعه‌داده‌ی پیش‌پردازش‌شده را در فایلی به نام <code>chocolate_preprocessed.csv</code> و بدون نمایه (<code>index</code>) ذخیره کنید تا بتوانید در مرحله‌ی بعدی از آن استفاده کنید.\n",
    "</font>\n",
    "</p>\n"
   ]
  },
  {
   "cell_type": "code",
   "metadata": {
    "id": "Jl_UvfllCL4F",
    "ExecuteTime": {
     "end_time": "2025-02-10T16:49:06.139495Z",
     "start_time": "2025-02-10T16:49:06.124092Z"
    }
   },
   "source": "df.to_csv('chocolate_preprocessed.csv', index=False)",
   "outputs": [],
   "execution_count": 148
  },
  {
   "attachments": {},
   "cell_type": "markdown",
   "metadata": {},
   "source": [
    "<h2 align=right style=\"line-height:200%;font-family:vazir;color:#0099cc\">\n",
    "<font face=\"vazirmatn\" color=\"#0099cc\">\n",
    "<b>سلول جواب‌ساز</b>\n",
    "</font>\n",
    "</h2>\n",
    "\n",
    "\n",
    "<p dir=rtl style=\"direction: rtl; text-align: justify; line-height:200%; font-family:vazir; font-size:medium\">\n",
    "<font face=\"vazirmatn\" size=3>\n",
    "    برای ساخته‌شدن فایل <code>result.zip</code> سلول زیر را اجرا کنید. توجه داشته باشید که پیش از اجرای سلول زیر تغییرات اعمال شده در نت‌بوک را ذخیره کرده باشید (<code>ctrl+s</code>) تا در صورت نیاز به پشتیبانی امکان بررسی کد شما وجود داشته باشد.\n",
    "</font>\n",
    "</p>"
   ]
  },
  {
   "cell_type": "code",
   "metadata": {
    "id": "d3RwVUR0hr6z",
    "ExecuteTime": {
     "end_time": "2025-02-10T16:49:06.263275Z",
     "start_time": "2025-02-10T16:49:06.141527Z"
    }
   },
   "source": [
    "import zlib\n",
    "import zipfile\n",
    "\n",
    "def compress(file_names):\n",
    "    print(\"File Paths:\")\n",
    "    print(file_names)\n",
    "    compression = zipfile.ZIP_DEFLATED\n",
    "    with zipfile.ZipFile(\"result.zip\", mode=\"w\") as zf:\n",
    "        for file_name in file_names:\n",
    "            zf.write('./' + file_name, file_name, compress_type=compression)\n",
    "\n",
    "np.savez(\"answers.npz\",s = s,cols = cols)\n",
    "file_names = [\"answers.npz\", \"project1_step1.ipynb\", \"chocolate_preprocessed.csv\"]\n",
    "compress(file_names)"
   ],
   "outputs": [
    {
     "name": "stdout",
     "output_type": "stream",
     "text": [
      "File Paths:\n",
      "['answers.npz', 'project1_step1.ipynb', 'chocolate_preprocessed.csv']\n"
     ]
    }
   ],
   "execution_count": 149
  }
 ],
 "metadata": {
  "colab": {
   "authorship_tag": "ABX9TyN5diGbKcT8eK/BCk7EMqAj",
   "name": "گام اول.ipynb",
   "provenance": []
  },
  "kernelspec": {
   "display_name": "base",
   "language": "python",
   "name": "python3"
  },
  "language_info": {
   "codemirror_mode": {
    "name": "ipython",
    "version": 3
   },
   "file_extension": ".py",
   "mimetype": "text/x-python",
   "name": "python",
   "nbconvert_exporter": "python",
   "pygments_lexer": "ipython3",
   "version": "3.12.7"
  }
 },
 "nbformat": 4,
 "nbformat_minor": 4
}
